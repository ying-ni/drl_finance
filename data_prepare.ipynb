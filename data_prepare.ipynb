{
 "cells": [
  {
   "cell_type": "markdown",
   "metadata": {},
   "source": [
    "### Model traning period: 2007-03 ~ 2020-03\n",
    "### Model testing period: 2020-04 ~ 2024-04\n",
    "### Asset pool : [\"SPY\",\"AGG\",\"QQQ\",\"VNQ\",\"IWM\",\"VIG\",\"IEF\"]\n",
    "### Variable:\n",
    "\n",
    "    #### 市場面 [\"^VIX\",\"^GSPC\",\"^DJI\",\"^IXIC\",\"^RUT\",\"^W5000FLT\",\"GC=F\",\"CL=F\"]\n",
    "    #### 技術指標\n",
    "    #### 基本面\n",
    "    #### 總體經濟面\n",
    "    #### 利率指標面"
   ]
  },
  {
   "cell_type": "code",
   "execution_count": 2,
   "metadata": {},
   "outputs": [],
   "source": [
    "import yfinance as yf\n",
    "import pandas as pd\n",
    "from datetime import datetime\n",
    "from dateutil import rrule"
   ]
  },
  {
   "cell_type": "code",
   "execution_count": 3,
   "metadata": {},
   "outputs": [],
   "source": [
    "\n",
    "def get_days_intervals(start_date, end_date):\n",
    "    \"\"\"\n",
    "    Convert a date range to a list of day intervals\n",
    "    \n",
    "    Parameters:\n",
    "    ----------\n",
    "    start_date: datetime\n",
    "    end_date: datetime\n",
    "    \n",
    "    Returns:\n",
    "    -------\n",
    "    list of datetime\n",
    "    \"\"\"\n",
    "    # Convert start_date and end_date to datetime objects\n",
    "    start = datetime.strptime(start_date, \"%Y-%m-%d\")\n",
    "    end = datetime.strptime(end_date, \"%Y-%m-%d\")\n",
    "    \n",
    "    # Generate a list of the first day of each month between start and end dates\n",
    "    months = list(rrule.rrule(rrule.DAILY, dtstart=start, until=end))\n",
    "    month_intervals =  [date.strftime(\"%Y-%m-%d\") for date in months if date.isoweekday()  not in [6,7]]\n",
    "    \n",
    "    return month_intervals"
   ]
  },
  {
   "cell_type": "code",
   "execution_count": 4,
   "metadata": {},
   "outputs": [],
   "source": [
    "\n",
    "class Yf_finance:\n",
    "    def __init__(self, start_date, end_date, stock_list):\n",
    "        self.start_date = start_date\n",
    "        self.end_date = end_date\n",
    "        self.stock_list = stock_list\n",
    "        self.days_intervals = get_days_intervals(start_date, end_date)\n",
    "\n",
    "    def get_trade_day(self):\n",
    "        df = yf.download('^DJI','2007-03-01','2024-03-31', interval='1d')\n",
    "        df = df.reset_index()\n",
    "        trade_day = df['Date']\n",
    "\n",
    "        return trade_day\n",
    "\n",
    "    def fundamentals(self):\n",
    "        \"\"\"\n",
    "        Get fundamentals of stocks\n",
    "        \n",
    "        Parameters:\n",
    "        ----------\n",
    "        \"\"\"\n",
    "        result = pd.DataFrame({'Date':self.days_intervals})\n",
    "        for s in self.stock_list:\n",
    "            df = yf.download(s,self.start_date,self.end_date, interval='1d')\n",
    "            df = df.reset_index()\n",
    "            df = df[['Date','Close']]\n",
    "            result.merge(df, on='Date', how='left')\n",
    "\n",
    "        \n"
   ]
  },
  {
   "cell_type": "code",
   "execution_count": 13,
   "metadata": {},
   "outputs": [],
   "source": [
    "start_date = '2007-03-01'\n",
    "end_date = '2020-03-31'\n",
    "stock_list = [\"SPY\",\"AGG\",\"QQQ\",\"VNQ\",\"IWM\",\"VIG\",\"IEF\"]"
   ]
  },
  {
   "cell_type": "code",
   "execution_count": 14,
   "metadata": {},
   "outputs": [
    {
     "name": "stderr",
     "output_type": "stream",
     "text": [
      "[*********************100%%**********************]  1 of 1 completed\n",
      "[*********************100%%**********************]  1 of 1 completed\n",
      "/tmp/ipykernel_522205/3006979071.py:13: FutureWarning: DataFrame.fillna with 'method' is deprecated and will raise in a future version. Use obj.ffill() or obj.bfill() instead.\n",
      "  result.fillna(method = 'ffill', inplace = True)\n",
      "[*********************100%%**********************]  1 of 1 completed\n",
      "/tmp/ipykernel_522205/3006979071.py:13: FutureWarning: DataFrame.fillna with 'method' is deprecated and will raise in a future version. Use obj.ffill() or obj.bfill() instead.\n",
      "  result.fillna(method = 'ffill', inplace = True)\n",
      "[*********************100%%**********************]  1 of 1 completed\n",
      "/tmp/ipykernel_522205/3006979071.py:13: FutureWarning: DataFrame.fillna with 'method' is deprecated and will raise in a future version. Use obj.ffill() or obj.bfill() instead.\n",
      "  result.fillna(method = 'ffill', inplace = True)\n",
      "[*********************100%%**********************]  1 of 1 completed\n",
      "/tmp/ipykernel_522205/3006979071.py:13: FutureWarning: DataFrame.fillna with 'method' is deprecated and will raise in a future version. Use obj.ffill() or obj.bfill() instead.\n",
      "  result.fillna(method = 'ffill', inplace = True)\n",
      "[*********************100%%**********************]  1 of 1 completed\n",
      "/tmp/ipykernel_522205/3006979071.py:13: FutureWarning: DataFrame.fillna with 'method' is deprecated and will raise in a future version. Use obj.ffill() or obj.bfill() instead.\n",
      "  result.fillna(method = 'ffill', inplace = True)\n",
      "[*********************100%%**********************]  1 of 1 completed\n",
      "/tmp/ipykernel_522205/3006979071.py:13: FutureWarning: DataFrame.fillna with 'method' is deprecated and will raise in a future version. Use obj.ffill() or obj.bfill() instead.\n",
      "  result.fillna(method = 'ffill', inplace = True)\n",
      "[*********************100%%**********************]  1 of 1 completed\n",
      "/tmp/ipykernel_522205/3006979071.py:13: FutureWarning: DataFrame.fillna with 'method' is deprecated and will raise in a future version. Use obj.ffill() or obj.bfill() instead.\n",
      "  result.fillna(method = 'ffill', inplace = True)\n"
     ]
    }
   ],
   "source": [
    "\n",
    "trade_day = yf.download('SPY','2007-03-01','2020-03-31', interval='1d')\n",
    "trade_day = trade_day.reset_index()\n",
    "trade_day = trade_day['Date']\n",
    "\n",
    "result =pd.DataFrame(trade_day)\n",
    "for s in stock_list:\n",
    "    \n",
    "    df = yf.download(s,'2007-03-01','2020-03-31', interval='1d')\n",
    "    df = df.reset_index()\n",
    "    df = df[['Date','Close']]\n",
    "    df = df.rename(columns = {'Close':f'{s}'})\n",
    "    result = result.merge(df, on='Date', how='left')\n",
    "    result.fillna(method = 'ffill', inplace = True)\n",
    "    result.to_csv(f'./asset_price.csv', index = False)\n"
   ]
  },
  {
   "cell_type": "code",
   "execution_count": 9,
   "metadata": {},
   "outputs": [
    {
     "name": "stderr",
     "output_type": "stream",
     "text": [
      "[*********************100%%**********************]  1 of 1 completed\n"
     ]
    }
   ],
   "source": [
    "a = yf.download(s,'2020-03-01','2020-03-31', interval='1d')"
   ]
  },
  {
   "cell_type": "code",
   "execution_count": 10,
   "metadata": {},
   "outputs": [],
   "source": [
    "import pandas as pd\n",
    "IEF = pd.read_csv('./未命名的試算表 - IEF.csv')\n",
    "QQQ = pd.read_csv('./未命名的試算表 - QQQ.csv')\n",
    "VIG = pd.read_csv('./未命名的試算表 - VIG.csv')\n",
    "VNQ = pd.read_csv('./未命名的試算表 - VNQ.csv')"
   ]
  },
  {
   "cell_type": "code",
   "execution_count": 9,
   "metadata": {},
   "outputs": [
    {
     "data": {
      "text/html": [
       "<div>\n",
       "<style scoped>\n",
       "    .dataframe tbody tr th:only-of-type {\n",
       "        vertical-align: middle;\n",
       "    }\n",
       "\n",
       "    .dataframe tbody tr th {\n",
       "        vertical-align: top;\n",
       "    }\n",
       "\n",
       "    .dataframe thead th {\n",
       "        text-align: right;\n",
       "    }\n",
       "</style>\n",
       "<table border=\"1\" class=\"dataframe\">\n",
       "  <thead>\n",
       "    <tr style=\"text-align: right;\">\n",
       "      <th></th>\n",
       "      <th>Date</th>\n",
       "      <th>Close</th>\n",
       "    </tr>\n",
       "  </thead>\n",
       "  <tbody>\n",
       "    <tr>\n",
       "      <th>0</th>\n",
       "      <td>2007/1/3</td>\n",
       "      <td>82.68</td>\n",
       "    </tr>\n",
       "    <tr>\n",
       "      <th>1</th>\n",
       "      <td>2007/1/4</td>\n",
       "      <td>82.95</td>\n",
       "    </tr>\n",
       "    <tr>\n",
       "      <th>2</th>\n",
       "      <td>2007/1/5</td>\n",
       "      <td>82.71</td>\n",
       "    </tr>\n",
       "    <tr>\n",
       "      <th>3</th>\n",
       "      <td>2007/1/8</td>\n",
       "      <td>82.77</td>\n",
       "    </tr>\n",
       "    <tr>\n",
       "      <th>4</th>\n",
       "      <td>2007/1/9</td>\n",
       "      <td>82.75</td>\n",
       "    </tr>\n",
       "    <tr>\n",
       "      <th>...</th>\n",
       "      <td>...</td>\n",
       "      <td>...</td>\n",
       "    </tr>\n",
       "    <tr>\n",
       "      <th>240</th>\n",
       "      <td>2007/12/20</td>\n",
       "      <td>86.95</td>\n",
       "    </tr>\n",
       "    <tr>\n",
       "      <th>241</th>\n",
       "      <td>2007/12/21</td>\n",
       "      <td>86.32</td>\n",
       "    </tr>\n",
       "    <tr>\n",
       "      <th>242</th>\n",
       "      <td>2007/12/26</td>\n",
       "      <td>85.66</td>\n",
       "    </tr>\n",
       "    <tr>\n",
       "      <th>243</th>\n",
       "      <td>2007/12/27</td>\n",
       "      <td>85.92</td>\n",
       "    </tr>\n",
       "    <tr>\n",
       "      <th>244</th>\n",
       "      <td>2007/12/28</td>\n",
       "      <td>86.61</td>\n",
       "    </tr>\n",
       "  </tbody>\n",
       "</table>\n",
       "<p>245 rows × 2 columns</p>\n",
       "</div>"
      ],
      "text/plain": [
       "           Date  Close\n",
       "0      2007/1/3  82.68\n",
       "1      2007/1/4  82.95\n",
       "2      2007/1/5  82.71\n",
       "3      2007/1/8  82.77\n",
       "4      2007/1/9  82.75\n",
       "..          ...    ...\n",
       "240  2007/12/20  86.95\n",
       "241  2007/12/21  86.32\n",
       "242  2007/12/26  85.66\n",
       "243  2007/12/27  85.92\n",
       "244  2007/12/28  86.61\n",
       "\n",
       "[245 rows x 2 columns]"
      ]
     },
     "execution_count": 9,
     "metadata": {},
     "output_type": "execute_result"
    }
   ],
   "source": [
    "AGG"
   ]
  }
 ],
 "metadata": {
  "kernelspec": {
   "display_name": "base",
   "language": "python",
   "name": "python3"
  },
  "language_info": {
   "codemirror_mode": {
    "name": "ipython",
    "version": 3
   },
   "file_extension": ".py",
   "mimetype": "text/x-python",
   "name": "python",
   "nbconvert_exporter": "python",
   "pygments_lexer": "ipython3",
   "version": "3.11.7"
  }
 },
 "nbformat": 4,
 "nbformat_minor": 2
}
