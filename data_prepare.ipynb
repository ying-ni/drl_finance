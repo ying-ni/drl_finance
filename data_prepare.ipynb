{
 "cells": [
  {
   "cell_type": "markdown",
   "metadata": {},
   "source": [
    "### Model traning period: 2007-03 ~ 2020-03\n",
    "### Model testing period: 2020-04 ~ 2024-04\n",
    "### Asset pool : [\"SPY\",\"AGG\",\"QQQ\",\"VNQ\",\"IWM\",\"VIG\",\"IEF\"]\n",
    "### Variable:\n",
    "\n",
    "    #### 市場面 [\"^VIX\",\"^GSPC\",\"^DJI\",\"^IXIC\",\"^RUT\",\"^W5000FLT\",\"GC=F\",\"CL=F\"]\n",
    "    #### 技術指標\n",
    "    #### 基本面\n",
    "    #### 總體經濟面\n",
    "    #### 利率指標面"
   ]
  },
  {
   "cell_type": "code",
   "execution_count": 13,
   "metadata": {},
   "outputs": [],
   "source": [
    "import yfinance as yf\n",
    "import pandas as pd\n",
    "from datetime import datetime\n",
    "from dateutil import rrule"
   ]
  },
  {
   "cell_type": "code",
   "execution_count": null,
   "metadata": {},
   "outputs": [],
   "source": [
    "\n",
    "def get_days_intervals(start_date, end_date):\n",
    "    \"\"\"\n",
    "    Convert a date range to a list of day intervals\n",
    "    \n",
    "    Parameters:\n",
    "    ----------\n",
    "    start_date: datetime\n",
    "    end_date: datetime\n",
    "    \n",
    "    Returns:\n",
    "    -------\n",
    "    list of datetime\n",
    "    \"\"\"\n",
    "    # Convert start_date and end_date to datetime objects\n",
    "    start = datetime.strptime(start_date, \"%Y-%m-%d\")\n",
    "    end = datetime.strptime(end_date, \"%Y-%m-%d\")\n",
    "    \n",
    "    # Generate a list of the first day of each month between start and end dates\n",
    "    months = list(rrule.rrule(rrule.DAILY, dtstart=start, until=end))\n",
    "    month_intervals =  [date.strftime(\"%Y-%m-%d\") for date in months if date.isoweekday()  not in [6,7]]\n",
    "    \n",
    "    return month_intervals"
   ]
  },
  {
   "cell_type": "code",
   "execution_count": null,
   "metadata": {},
   "outputs": [],
   "source": [
    "\n",
    "class Yf_finance:\n",
    "    def __init__(self, start_date, end_date, stock_list):\n",
    "        self.start_date = start_date\n",
    "        self.end_date = end_date\n",
    "        self.stock_list = stock_list\n",
    "        self.days_intervals = get_days_intervals(start_date, end_date)\n",
    "\n",
    "    def get_trade_day(self):\n",
    "        df = yf.download('^DJI','2007-03-01','2024-03-31', interval='1d')\n",
    "        df = df.reset_index()\n",
    "        trade_day = df['Date']\n",
    "\n",
    "        return trade_day\n",
    "\n",
    "    def fundamentals(self):\n",
    "        \"\"\"\n",
    "        Get fundamentals of stocks\n",
    "        \n",
    "        Parameters:\n",
    "        ----------\n",
    "        \"\"\"\n",
    "        result = pd.DataFrame({'Date':self.days_intervals})\n",
    "        for s in self.stock_list:\n",
    "            df = yf.download(s,self.start_date,self.end_date, interval='1d')\n",
    "            df = df.reset_index()\n",
    "            df = df[['Date','Close']]\n",
    "            result.merge(df, on='Date', how='left')\n",
    "\n",
    "        \n"
   ]
  },
  {
   "cell_type": "code",
   "execution_count": 15,
   "metadata": {},
   "outputs": [
    {
     "name": "stderr",
     "output_type": "stream",
     "text": [
      "[*********************100%%**********************]  1 of 1 completed\n",
      "\n",
      "1 Failed download:\n",
      "['VNQ']: JSONDecodeError('Expecting value: line 1 column 1 (char 0)')\n"
     ]
    }
   ],
   "source": [
    "start_date = '2007-01-01'\n",
    "end_date = '2024-03-31'\n",
    "stock_list = [\"SPY\",\"AGG\",\"QQQ\",\"VNQ\",\"IWM\",\"VIG\",\"IEF\"]\n",
    "\n",
    "trade_day = yf.download('VNQ','2007-03-01','2024-03-31', interval='1d')\n",
    "trade_day = trade_day.reset_index()\n",
    "trade_day = trade_day['Date']"
   ]
  },
  {
   "cell_type": "code",
   "execution_count": 17,
   "metadata": {},
   "outputs": [
    {
     "name": "stderr",
     "output_type": "stream",
     "text": [
      "[*********************100%%**********************]  1 of 1 completed\n",
      "\n",
      "1 Failed download:\n",
      "['^VIX']: JSONDecodeError('Expecting value: line 1 column 1 (char 0)')\n"
     ]
    }
   ],
   "source": [
    "### 基本面\n",
    "# fund_raw = pd.DataFrame(trade_day)\n",
    "fundindex_list = [\"^VIX\",\"^GSPC\",\"^DJI\",\"^IXIC\",\"^RUT\",\"^W5000FLT\",\"GC=F\",\"CL=F\"]\n",
    "for s in fundindex_list:\n",
    "    df = yf.download(s,'2007-03-01','2024-03-31', interval='1d')\n",
    "    df = df.reset_index()\n",
    "    # df = df[['Date','Close']]\n",
    "    # df = df.rename(columns = {'Close':f'{s}'})\n",
    "    # fund_raw = fund_raw.merge(df, on ='Date', how = 'left')\n",
    "    "
   ]
  },
  {
   "cell_type": "code",
   "execution_count": null,
   "metadata": {},
   "outputs": [],
   "source": [
    "### 基本面相關\n",
    "result =pd.DataFrame(trade_day)\n",
    "for s in stock_list:\n",
    "    df = yf.download(s,'2007-03-01','2024-03-31', interval='1d')\n",
    "    df = df.reset_index()\n",
    "    df = df[['Date','Close','Volume']]\n",
    "    df = df.rename(columns = {'Close':f'{s}_Close', 'Volume':f'{s}_Volume'})\n",
    "    result = result.merge(df, on='Date', how='left')\n",
    "    result.fillna(method = 'ffill', inplace = True)\n",
    "result.to_csv(f'./asset_price.csv', index = False)\n"
   ]
  },
  {
   "cell_type": "code",
   "execution_count": null,
   "metadata": {},
   "outputs": [],
   "source": [
    "#利率指標\n",
    "US1M = pd.read_csv('./data/archived/US1M.csv')\n",
    "US1M['Date'] = pd.to_datetime(US1M['Date'])\n",
    "US3M = pd.read_csv('./data/archived/US3M.csv')\n",
    "US3M = US3M.rename(columns = {'Date\\t':'Date'})\n",
    "US3M['Date'] = pd.to_datetime(US3M['Date'])\n",
    "DGS5 = pd.read_csv('./data/archived/DGS5.csv')\n",
    "DGS5['Date'] = pd.to_datetime(DGS5['Date'])\n",
    "DGS10 = pd.read_csv('./data/archived/DGS10.csv')\n",
    "DGS10['Date'] = pd.to_datetime(DGS10['Date'])\n",
    "DGS10 = DGS10[['Date','Close_DGS10']]\n",
    "DFF = pd.read_csv('./data/DFF.csv')\n",
    "DFF['Date'] = pd.to_datetime(DFF['Date'])\n",
    "\n",
    "bond_rate =pd.DataFrame(trade_day)\n",
    "bond_rate = bond_rate.merge(US1M, on='Date', how='left')\n",
    "bond_rate = bond_rate.merge(US3M, on='Date', how='left')\n",
    "bond_rate = bond_rate.merge(DGS5, on='Date', how='left')\n",
    "bond_rate = bond_rate.merge(DGS10, on='Date', how='left')\n",
    "bond_rate = bond_rate.merge(DFF, on='Date', how='left')\n",
    "\n",
    "bond_rate.to_csv('./data/bond_rate.csv', index = False)"
   ]
  },
  {
   "cell_type": "code",
   "execution_count": null,
   "metadata": {},
   "outputs": [],
   "source": [
    "#技術指標\n",
    "df = pd.read_csv('./data/asset_price.csv')\n",
    "df = df[['Date','SPY_Close','AGG_Close','QQQ_Close','VNQ_Close','IWM_Close','VIG_Close','IEF_Close']]"
   ]
  },
  {
   "cell_type": "code",
   "execution_count": null,
   "metadata": {},
   "outputs": [],
   "source": [
    "#計算14日RSI\n",
    "for i in df.columns[1:]:\n",
    "    stock = i.replace('_Close','')\n",
    "    df[f'{stock}_change'] = df[i].diff()\n",
    "    df[f'{stock}_change'] = df[f'{stock}_change'].fillna(0)\n",
    "    \n",
    "    # 分別計算漲幅和跌幅\n",
    "    df[f'{stock}_gain'] = df[f'{stock}_change'].mask(df[f'{stock}_change'] < 0, 0)\n",
    "    df[f'{stock}_loss'] = -df[f'{stock}_change'].mask(df[f'{stock}_change'] > 0, 0)\n",
    "\n",
    "    # 計算平均漲幅和平均跌幅\n",
    "    df[f'{stock}_avg_gain'] = df[f'{stock}_gain'].rolling(window=14, min_periods=14).mean()\n",
    "    df[f'{stock}_avg_loss'] = df[f'{stock}_loss'].rolling(window=14, min_periods=14).mean()\n",
    "\n",
    "    # 計算RS和RSI\n",
    "    df[f'{stock}_rs'] = df[f'{stock}_avg_gain'] / df[f'{stock}_avg_loss']\n",
    "    df[f'{stock}_rsi'] = 100 - (100 / (1 + df[f'{stock}_rs']))\n",
    "\n",
    "\n",
    "\n"
   ]
  },
  {
   "cell_type": "code",
   "execution_count": null,
   "metadata": {},
   "outputs": [],
   "source": [
    "#計算20日、50日、100日簡單移動平均線\n",
    "from stockstats import StockDataFrame as Sdf\n",
    "result = pd.read_csv('./asset_price.csv')\n",
    "result['Date'] = pd.to_datetime(result['Date'])\n",
    "for s in stock_list:\n",
    "    df = yf.download(s,'2007-03-01','2024-03-31', interval='1d')\n",
    "    df = df.reset_index()\n",
    "    df = df[['Date','Close','High','Low','Volume']]\n",
    "    # 將DataFrame轉換為StockDataFrame\n",
    "    stock = Sdf.retype(df)\n",
    "    df[f'{s}_close_20_sma'] = stock['close_20_sma']\n",
    "    df[f'{s}_close_50_sma'] = stock['close_50_sma']\n",
    "    df[f'{s}_close_100_sma'] = stock['close_100_sma']\n",
    "\n",
    "    df = df.reset_index()\n",
    "    df = df.rename(columns = {'date':'Date'})\n",
    "    df = df[['Date',f'{s}_close_20_sma',f'{s}_close_50_sma',f'{s}_close_100_sma']]\n",
    "\n",
    "    result = result.merge(df, on='Date', how='left')\n",
    "\n",
    "result.to_csv('./data/asset_sma.csv', index = False)\n"
   ]
  },
  {
   "cell_type": "code",
   "execution_count": null,
   "metadata": {},
   "outputs": [],
   "source": [
    "#平均回報率\n",
    "\n",
    "result =pd.DataFrame(trade_day)\n",
    "\n",
    "# 定义资产和时间段\n",
    "periods = [20, 60, 120, 180, 240]  # 假设每个月大约有20个交易日\n",
    "\n",
    "\n",
    "# 计算回报率\n",
    "# returns = pd.DataFrame(index=assets, columns=[f'{p}d' for p in periods])\n",
    "for asset in stock_list:\n",
    "    # 下载数据\n",
    "    data = yf.download(asset, '2007-03-01','2024-03-31', interval='1d')['Adj Close']\n",
    "    data = data.reset_index()\n",
    "    for period in periods:\n",
    "        # returns.loc[asset, f'{period}d'] = data[asset].pct_change(periods=period).iloc[-1]\n",
    "        data = data.rename(columns = {'Adj Close' : f'{asset}_adj_close'})\n",
    "        data[f'{asset}_{period}'] = data[f'{asset}_adj_close'].pct_change(periods=period)\n",
    "    data = data.fillna(0)\n",
    "    column_to_sum = [f'{asset}_20', f'{asset}_60', f'{asset}_120', f'{asset}_180', f'{asset}_240']\n",
    "    data[f'{asset}_sum'] = data[column_to_sum].sum(axis=1)\n",
    "    data[f'{asset}_avg'] = data[f'{asset}_sum'] / 5\n",
    "    \n",
    "    result = result.merge(data, on='Date', how='left')\n",
    "    result.to_csv('./data/asset_monetum.csv',index=False)\n",
    "# # 分配分数\n",
    "# scores = returns.rank(ascending=False)\n",
    "\n",
    "# # 计算总分\n",
    "# scores['Total'] = scores.sum(axis=1)\n"
   ]
  },
  {
   "cell_type": "code",
   "execution_count": null,
   "metadata": {},
   "outputs": [],
   "source": [
    "#計算TIPS 的絕對動能 \n",
    "data = yf.download('TIP', '2006-03-01','2024-03-31', interval='1d')['Adj Close']\n",
    "data = data.reset_index()\n",
    "data = data.rename(columns = {'Adj Close' : f'TIPS_adj_close'})\n",
    "data[f'TIPS_240'] = data['TIPS_adj_close'].rolling(window=240).mean()\n",
    "data = data.fillna(0)\n",
    "data['TIPS_momentum'] = data['TIPS_adj_close'] - data['TIPS_240']\n",
    "data = data[data['Date']>= '2007-03-01']\n",
    "data.to_csv('./data/TIPS_signal.csv', index=False)"
   ]
  },
  {
   "cell_type": "code",
   "execution_count": null,
   "metadata": {},
   "outputs": [],
   "source": [
    "import matplotlib.pyplot as plt\n",
    "import pandas as pd\n",
    "\n",
    "# 假設你已經有一個DataFrame 'df'，包含了日期和收盤價格\n",
    "# df = pd.read_csv('your_data.csv')  # 如果你的數據在CSV文件中\n",
    "\n",
    "# 繪製收盤價格的趨勢線圖\n",
    "plt.figure(figsize=(10, 5))  # 設定圖形大小\n",
    "plt.plot(data['Date'], data['TIPS_momentum'], label='TIPS_momentum')  # 繪製收盤價格趨勢線\n",
    "\n",
    "plt.axhline(0, color='red', linewidth=0.5)\n",
    "# 設定圖表標題和軸標籤\n",
    "plt.title('momentum Trend')\n",
    "plt.xlabel('Date')\n",
    "plt.ylabel('TIPS_momentum')\n",
    "\n",
    "# 顯示圖例\n",
    "plt.legend()\n",
    "\n",
    "# 優化日期標籤顯示\n",
    "plt.gcf().autofmt_xdate()\n",
    "\n",
    "# 顯示圖表\n",
    "plt.show()\n"
   ]
  },
  {
   "cell_type": "code",
   "execution_count": null,
   "metadata": {},
   "outputs": [],
   "source": [
    "# 總體經濟面\n",
    "CPI = pd.read_csv('./data/CPIAUCSL.csv')\n",
    "CPI['DATE'] = pd.to_datetime(CPI['DATE'])\n",
    "CSU = pd.read_csv('./data/CSUSHPINSA.csv')\n",
    "CSU['DATE'] = pd.to_datetime(CSU['DATE'])\n",
    "fred = pd.read_csv('./data/fredgraph.csv')\n",
    "fred['DATE'] = pd.to_datetime(fred['DATE'])\n",
    "GDP = pd.read_csv('./data/GDP.csv')\n",
    "GDP['DATE'] = pd.to_datetime(GDP['DATE'])\n",
    "GDPC1 = pd.read_csv('./data/GDPC1.csv')\n",
    "GDPC1['DATE'] = pd.to_datetime(GDPC1['DATE'])\n",
    "\n",
    "result =pd.DataFrame(trade_day)\n",
    "result = result.merge(CPI, left_on='Date',right_on='DATE', how='left')[['Date', 'CPIAUCSL']]\n",
    "result = result.merge(CSU, left_on='Date',right_on='DATE', how='left')[['Date', 'CPIAUCSL','CSUSHPINSA']]\n",
    "result = result.merge(fred, left_on='Date',right_on='DATE', how='left')[['Date', 'CPIAUCSL','CSUSHPINSA','CPIAUCSL_PC1','CPILFESL_PC1']]\n",
    "result = result.merge(GDP, left_on='Date',right_on='DATE', how='left')[['Date', 'CPIAUCSL','CSUSHPINSA','CPIAUCSL_PC1','CPILFESL_PC1','GDP']]\n",
    "result = result.merge(GDPC1, left_on='Date',right_on='DATE', how='left')[['Date', 'CPIAUCSL','CSUSHPINSA','CPIAUCSL_PC1','CPILFESL_PC1','GDP','GDPC1']]\n",
    "\n",
    "result.fillna(method = 'ffill', inplace = True)\n",
    "# result['GDPC1'].fillna(16611.69, inplace=True)\n",
    "# result['GDP'].fillna(14215.651, inplace=True)\n",
    "result.to_csv('FRED_data.csv', index=False)\n"
   ]
  },
  {
   "cell_type": "code",
   "execution_count": null,
   "metadata": {},
   "outputs": [],
   "source": [
    "fund = pd.read_csv('./data/fundamentals_1.csv')\n",
    "aaii = pd.read_csv('./data/AAII.csv')\n",
    "fund['Date'] = pd.to_datetime(fund['Date'])\n",
    "aaii['Reported'] = pd.to_datetime(aaii['Reported'])"
   ]
  },
  {
   "cell_type": "code",
   "execution_count": null,
   "metadata": {},
   "outputs": [],
   "source": [
    "fund = fund.merge(aaii, left_on = 'Date', right_on = 'Reported', how='left')\n",
    "fund.drop('Reported', axis=1, inplace=True)\n",
    "fund.fillna(method = 'ffill', inplace = True)\n",
    "fund.to_csv('./data/fundamentals.csv', index=False)"
   ]
  },
  {
   "cell_type": "code",
   "execution_count": null,
   "metadata": {},
   "outputs": [],
   "source": [
    "aaii"
   ]
  },
  {
   "cell_type": "code",
   "execution_count": null,
   "metadata": {},
   "outputs": [],
   "source": []
  },
  {
   "cell_type": "code",
   "execution_count": null,
   "metadata": {},
   "outputs": [],
   "source": [
    "\n",
    "fund['Bull-Bear Spread'] = fund['Bull-Bear Spread'].str.replace('%', '', regex=False).astype('float')/100"
   ]
  }
 ],
 "metadata": {
  "kernelspec": {
   "display_name": "base",
   "language": "python",
   "name": "python3"
  },
  "language_info": {
   "codemirror_mode": {
    "name": "ipython",
    "version": 3
   },
   "file_extension": ".py",
   "mimetype": "text/x-python",
   "name": "python",
   "nbconvert_exporter": "python",
   "pygments_lexer": "ipython3",
   "version": "3.11.7"
  }
 },
 "nbformat": 4,
 "nbformat_minor": 2
}
