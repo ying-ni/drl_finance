{
 "cells": [
  {
   "cell_type": "code",
   "execution_count": 2,
   "metadata": {},
   "outputs": [],
   "source": [
    "import yfinance as yf\n",
    "import pandas as pd\n",
    "from datetime import datetime"
   ]
  },
  {
   "cell_type": "code",
   "execution_count": 4,
   "metadata": {},
   "outputs": [],
   "source": [
    "from dateutil import rrule\n",
    "from datetime import datetime\n",
    "\n",
    "def get_month_intervals(start_date, end_date):\n",
    "    # Convert start_date and end_date to datetime objects\n",
    "    start = datetime.strptime(start_date, \"%Y-%m\")\n",
    "    end = datetime.strptime(end_date, \"%Y-%m\")\n",
    "    \n",
    "    # Generate a list of the first day of each month between start and end dates\n",
    "    months = list(rrule.rrule(rrule.MONTHLY, dtstart=start, until=end))\n",
    "    month_intervals = [date.strftime(\"%Y-%m\") for date in months]\n",
    "    \n",
    "    return month_intervals"
   ]
  },
  {
   "cell_type": "code",
   "execution_count": 5,
   "metadata": {},
   "outputs": [],
   "source": [
    "st = '2006-03'\n",
    "et = '2024-03'\n",
    "month_intervals = get_month_intervals(st, et)"
   ]
  },
  {
   "cell_type": "code",
   "execution_count": 6,
   "metadata": {},
   "outputs": [],
   "source": [
    "# [\"SPY\",\"BND\",\"QQQ\",\"VNQ\",\"IWM\",\"VIG\",\"BIL\"]\n",
    "stock_list = [\"SPY\",]\n",
    "\n",
    "df = pd.DataFrame({'Date':month_intervals})\n",
    "for s in stock_list:\n",
    "    stock = yf.Ticker(s)\n",
    "    tmp_df = stock.dividends\n",
    "    tmp_df = tmp_df.reset_index()\n",
    "    tmp_df = tmp_df.rename(columns = {'Dividends':s,'index':'Date'})\n",
    "    tmp_df['Date'] = tmp_df['Date'].dt.strftime('%Y-%m')\n",
    "    df.merge(tmp_df,how='left', on='Date')"
   ]
  },
  {
   "cell_type": "code",
   "execution_count": 34,
   "metadata": {},
   "outputs": [],
   "source": [
    "df.fillna(0, inplace=True)\n"
   ]
  },
  {
   "cell_type": "code",
   "execution_count": 25,
   "metadata": {},
   "outputs": [
    {
     "data": {
      "text/html": [
       "<div>\n",
       "<style scoped>\n",
       "    .dataframe tbody tr th:only-of-type {\n",
       "        vertical-align: middle;\n",
       "    }\n",
       "\n",
       "    .dataframe tbody tr th {\n",
       "        vertical-align: top;\n",
       "    }\n",
       "\n",
       "    .dataframe thead th {\n",
       "        text-align: right;\n",
       "    }\n",
       "</style>\n",
       "<table border=\"1\" class=\"dataframe\">\n",
       "  <thead>\n",
       "    <tr style=\"text-align: right;\">\n",
       "      <th></th>\n",
       "      <th>Open</th>\n",
       "      <th>High</th>\n",
       "      <th>Low</th>\n",
       "      <th>Close</th>\n",
       "      <th>Volume</th>\n",
       "      <th>Dividends</th>\n",
       "      <th>Stock Splits</th>\n",
       "      <th>Capital Gains</th>\n",
       "    </tr>\n",
       "    <tr>\n",
       "      <th>Date</th>\n",
       "      <th></th>\n",
       "      <th></th>\n",
       "      <th></th>\n",
       "      <th></th>\n",
       "      <th></th>\n",
       "      <th></th>\n",
       "      <th></th>\n",
       "      <th></th>\n",
       "    </tr>\n",
       "  </thead>\n",
       "  <tbody>\n",
       "    <tr>\n",
       "      <th>2024-03-25 00:00:00-04:00</th>\n",
       "      <td>519.799988</td>\n",
       "      <td>520.950012</td>\n",
       "      <td>519.609985</td>\n",
       "      <td>519.77002</td>\n",
       "      <td>48444300</td>\n",
       "      <td>0.0</td>\n",
       "      <td>0.0</td>\n",
       "      <td>0.0</td>\n",
       "    </tr>\n",
       "  </tbody>\n",
       "</table>\n",
       "</div>"
      ],
      "text/plain": [
       "                                 Open        High         Low      Close  \\\n",
       "Date                                                                       \n",
       "2024-03-25 00:00:00-04:00  519.799988  520.950012  519.609985  519.77002   \n",
       "\n",
       "                             Volume  Dividends  Stock Splits  Capital Gains  \n",
       "Date                                                                         \n",
       "2024-03-25 00:00:00-04:00  48444300        0.0           0.0            0.0  "
      ]
     },
     "execution_count": 25,
     "metadata": {},
     "output_type": "execute_result"
    }
   ],
   "source": [
    "stock.history(period='d')\n"
   ]
  },
  {
   "cell_type": "code",
   "execution_count": 8,
   "metadata": {},
   "outputs": [],
   "source": [
    "stock_list = [\"SPY\",]\n",
    "for s in stock_list:\n",
    "    stock = yf.Ticker(s)"
   ]
  },
  {
   "cell_type": "code",
   "execution_count": 10,
   "metadata": {},
   "outputs": [
    {
     "name": "stderr",
     "output_type": "stream",
     "text": [
      "[*********************100%%**********************]  1 of 1 completed\n"
     ]
    }
   ],
   "source": [
    "data = yf.download(\"SPY\", period=\"1mo\")\n"
   ]
  },
  {
   "cell_type": "code",
   "execution_count": 11,
   "metadata": {},
   "outputs": [
    {
     "data": {
      "text/html": [
       "<div>\n",
       "<style scoped>\n",
       "    .dataframe tbody tr th:only-of-type {\n",
       "        vertical-align: middle;\n",
       "    }\n",
       "\n",
       "    .dataframe tbody tr th {\n",
       "        vertical-align: top;\n",
       "    }\n",
       "\n",
       "    .dataframe thead th {\n",
       "        text-align: right;\n",
       "    }\n",
       "</style>\n",
       "<table border=\"1\" class=\"dataframe\">\n",
       "  <thead>\n",
       "    <tr style=\"text-align: right;\">\n",
       "      <th></th>\n",
       "      <th>Open</th>\n",
       "      <th>High</th>\n",
       "      <th>Low</th>\n",
       "      <th>Close</th>\n",
       "      <th>Adj Close</th>\n",
       "      <th>Volume</th>\n",
       "    </tr>\n",
       "    <tr>\n",
       "      <th>Date</th>\n",
       "      <th></th>\n",
       "      <th></th>\n",
       "      <th></th>\n",
       "      <th></th>\n",
       "      <th></th>\n",
       "      <th></th>\n",
       "    </tr>\n",
       "  </thead>\n",
       "  <tbody>\n",
       "    <tr>\n",
       "      <th>2024-02-26</th>\n",
       "      <td>508.299988</td>\n",
       "      <td>508.750000</td>\n",
       "      <td>505.859985</td>\n",
       "      <td>505.989990</td>\n",
       "      <td>504.422729</td>\n",
       "      <td>50386700</td>\n",
       "    </tr>\n",
       "    <tr>\n",
       "      <th>2024-02-27</th>\n",
       "      <td>506.700012</td>\n",
       "      <td>507.160004</td>\n",
       "      <td>504.750000</td>\n",
       "      <td>506.929993</td>\n",
       "      <td>505.359833</td>\n",
       "      <td>48854500</td>\n",
       "    </tr>\n",
       "    <tr>\n",
       "      <th>2024-02-28</th>\n",
       "      <td>505.329987</td>\n",
       "      <td>506.859985</td>\n",
       "      <td>504.959991</td>\n",
       "      <td>506.260010</td>\n",
       "      <td>504.691925</td>\n",
       "      <td>56506600</td>\n",
       "    </tr>\n",
       "    <tr>\n",
       "      <th>2024-02-29</th>\n",
       "      <td>508.070007</td>\n",
       "      <td>509.739990</td>\n",
       "      <td>505.350006</td>\n",
       "      <td>508.079987</td>\n",
       "      <td>506.506256</td>\n",
       "      <td>83924800</td>\n",
       "    </tr>\n",
       "    <tr>\n",
       "      <th>2024-03-01</th>\n",
       "      <td>508.980011</td>\n",
       "      <td>513.289978</td>\n",
       "      <td>508.559998</td>\n",
       "      <td>512.849976</td>\n",
       "      <td>511.261475</td>\n",
       "      <td>76805900</td>\n",
       "    </tr>\n",
       "  </tbody>\n",
       "</table>\n",
       "</div>"
      ],
      "text/plain": [
       "                  Open        High         Low       Close   Adj Close  \\\n",
       "Date                                                                     \n",
       "2024-02-26  508.299988  508.750000  505.859985  505.989990  504.422729   \n",
       "2024-02-27  506.700012  507.160004  504.750000  506.929993  505.359833   \n",
       "2024-02-28  505.329987  506.859985  504.959991  506.260010  504.691925   \n",
       "2024-02-29  508.070007  509.739990  505.350006  508.079987  506.506256   \n",
       "2024-03-01  508.980011  513.289978  508.559998  512.849976  511.261475   \n",
       "\n",
       "              Volume  \n",
       "Date                  \n",
       "2024-02-26  50386700  \n",
       "2024-02-27  48854500  \n",
       "2024-02-28  56506600  \n",
       "2024-02-29  83924800  \n",
       "2024-03-01  76805900  "
      ]
     },
     "execution_count": 11,
     "metadata": {},
     "output_type": "execute_result"
    }
   ],
   "source": [
    "data.head()"
   ]
  }
 ],
 "metadata": {
  "kernelspec": {
   "display_name": "base",
   "language": "python",
   "name": "python3"
  },
  "language_info": {
   "codemirror_mode": {
    "name": "ipython",
    "version": 3
   },
   "file_extension": ".py",
   "mimetype": "text/x-python",
   "name": "python",
   "nbconvert_exporter": "python",
   "pygments_lexer": "ipython3",
   "version": "3.11.7"
  }
 },
 "nbformat": 4,
 "nbformat_minor": 2
}
